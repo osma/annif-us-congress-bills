{
 "cells": [
  {
   "cell_type": "markdown",
   "id": "d42b903c-4a42-458f-9e51-814116db8e95",
   "metadata": {},
   "source": [
    "# Convert US Congressional bills dataset to Annif corpora\n",
    "\n",
    "This notebook converts the [bill_labels_us](https://huggingface.co/datasets/dreamproit/bill_labels_us) dataset to corpora suitable for use with the [Annif](https://annif.org) automated subject indexing tool. With these corpora, Annif can be trained to predict either policy areas or legislative subjects based on the title and text of a bill."
   ]
  },
  {
   "cell_type": "code",
   "execution_count": 24,
   "id": "e46e6665-8ca8-4aec-ac5a-9c4da8e28aa0",
   "metadata": {},
   "outputs": [
    {
     "data": {
      "text/plain": [
       "Dataset({\n",
       "    features: ['id', 'congress', 'bill_type', 'bill_number', 'bill_version', 'title', 'sections', 'sections_length', 'text', 'text_length', 'policy_area', 'legislative_subjects'],\n",
       "    num_rows: 119569\n",
       "})"
      ]
     },
     "execution_count": 24,
     "metadata": {},
     "output_type": "execute_result"
    }
   ],
   "source": [
    "from datasets import load_dataset\n",
    "\n",
    "dataset = load_dataset(\"dreamproit/bill_labels_us\", split='train') # the original dataset only has a \"train\" split\n",
    "dataset"
   ]
  },
  {
   "cell_type": "code",
   "execution_count": 25,
   "id": "26f6189d-c2d8-4a1f-9fcf-8f7293062783",
   "metadata": {},
   "outputs": [
    {
     "name": "stdout",
     "output_type": "stream",
     "text": [
      "https://www.congress.gov/help/field-values/policy-area#1\tAgriculture and Food\n",
      "https://www.congress.gov/help/field-values/policy-area#2\tAnimals\n",
      "https://www.congress.gov/help/field-values/policy-area#3\tArmed Forces and National Security\n",
      "https://www.congress.gov/help/field-values/policy-area#4\tArts, Culture, Religion\n",
      "https://www.congress.gov/help/field-values/policy-area#5\tCivil Rights and Liberties, Minority Issues\n",
      "https://www.congress.gov/help/field-values/policy-area#6\tCommemorations\n",
      "https://www.congress.gov/help/field-values/policy-area#7\tCommerce\n",
      "https://www.congress.gov/help/field-values/policy-area#8\tCongress\n",
      "https://www.congress.gov/help/field-values/policy-area#9\tCrime and Law Enforcement\n",
      "https://www.congress.gov/help/field-values/policy-area#10\tEconomics and Public Finance\n",
      "https://www.congress.gov/help/field-values/policy-area#11\tEducation\n",
      "https://www.congress.gov/help/field-values/policy-area#12\tEmergency Management\n",
      "https://www.congress.gov/help/field-values/policy-area#13\tEnergy\n",
      "https://www.congress.gov/help/field-values/policy-area#14\tEnvironmental Protection\n",
      "https://www.congress.gov/help/field-values/policy-area#15\tFamilies\n",
      "https://www.congress.gov/help/field-values/policy-area#16\tFinance and Financial Sector\n",
      "https://www.congress.gov/help/field-values/policy-area#17\tForeign Trade and International Finance\n",
      "https://www.congress.gov/help/field-values/policy-area#18\tGovernment Operations and Politics\n",
      "https://www.congress.gov/help/field-values/policy-area#19\tHealth\n",
      "https://www.congress.gov/help/field-values/policy-area#20\tHousing and Community Development\n",
      "https://www.congress.gov/help/field-values/policy-area#21\tImmigration\n",
      "https://www.congress.gov/help/field-values/policy-area#22\tInternational Affairs\n",
      "https://www.congress.gov/help/field-values/policy-area#23\tLabor and Employment\n",
      "https://www.congress.gov/help/field-values/policy-area#24\tLaw\n",
      "https://www.congress.gov/help/field-values/policy-area#25\tNative Americans\n",
      "https://www.congress.gov/help/field-values/policy-area#26\tPrivate Legislation\n",
      "https://www.congress.gov/help/field-values/policy-area#27\tPublic Lands and Natural Resources\n",
      "https://www.congress.gov/help/field-values/policy-area#28\tScience, Technology, Communications\n",
      "https://www.congress.gov/help/field-values/policy-area#29\tSocial Sciences and History\n",
      "https://www.congress.gov/help/field-values/policy-area#30\tSocial Welfare\n",
      "https://www.congress.gov/help/field-values/policy-area#31\tSports and Recreation\n",
      "https://www.congress.gov/help/field-values/policy-area#32\tTaxation\n",
      "https://www.congress.gov/help/field-values/policy-area#33\tTransportation and Public Works\n",
      "https://www.congress.gov/help/field-values/policy-area#34\tWater Resources Development\n",
      "wrote 34 policy areas into policy_area.csv\n"
     ]
    }
   ],
   "source": [
    "# Convert policy areas to Annif CSV vocabulary\n",
    "\n",
    "import csv\n",
    "\n",
    "FIELDS = ('uri', 'label_en')\n",
    "OUTFILE = 'policy_area.csv'\n",
    "\n",
    "policy_areas = sorted(set(dataset['policy_area']))\n",
    "policy_area_uri = {}\n",
    "\n",
    "# This page lists the policy areas. It doesn't have any IDs or HTML anchors to each individual policy area.\n",
    "# Using a hash URI is the best we can do here, although it won't point to the specific item on the page.\n",
    "URIBASE = 'https://www.congress.gov/help/field-values/policy-area#'\n",
    "\n",
    "with open(OUTFILE, 'w', newline='') as outfile:\n",
    "    writer = csv.DictWriter(outfile, fieldnames=FIELDS)\n",
    "    writer.writeheader()\n",
    "\n",
    "    count = 0\n",
    "    for idx, policy_area in enumerate(policy_areas):\n",
    "        uri = URIBASE + str(idx+1)\n",
    "        item = {\n",
    "            'uri': uri,\n",
    "            'label_en': policy_area,\n",
    "        }\n",
    "        print(f\"{uri}\\t{policy_area}\")\n",
    "        policy_area_uri[policy_area] = uri\n",
    "        writer.writerow(item)\n",
    "        count += 1\n",
    "\n",
    "    print(f\"wrote {count} policy areas into {OUTFILE}\")"
   ]
  },
  {
   "cell_type": "code",
   "execution_count": 26,
   "id": "976b27b7-7a3b-4882-bc3a-2327c48f06ca",
   "metadata": {},
   "outputs": [
    {
     "name": "stdout",
     "output_type": "stream",
     "text": [
      "https://www.congress.gov/help/field-values/legislative-subject-terms#1\tAIDS (Disease)\n",
      "https://www.congress.gov/help/field-values/legislative-subject-terms#2\tASEAN countries\n",
      "https://www.congress.gov/help/field-values/legislative-subject-terms#3\tAbandonment of family\n",
      "https://www.congress.gov/help/field-values/legislative-subject-terms#4\tAbortion\n",
      "https://www.congress.gov/help/field-values/legislative-subject-terms#5\tAbsentee voting\n",
      "https://www.congress.gov/help/field-values/legislative-subject-terms#6\tAcademic freedom\n",
      "https://www.congress.gov/help/field-values/legislative-subject-terms#7\tAcademic performance\n",
      "https://www.congress.gov/help/field-values/legislative-subject-terms#8\tAcademic performance and assessments\n",
      "https://www.congress.gov/help/field-values/legislative-subject-terms#9\tAccess Board\n",
      "https://www.congress.gov/help/field-values/legislative-subject-terms#10\tAccess to airports\n",
      "wrote 4658 subjects into legislative_subjects.csv\n"
     ]
    }
   ],
   "source": [
    "# Convert legislative subjects to Annif CSV vocabulary\n",
    "\n",
    "import csv\n",
    "\n",
    "FIELDS = ('uri', 'label_en')\n",
    "OUTFILE = 'legislative_subjects.csv'\n",
    "\n",
    "subjects = sorted(set([item for row in dataset['legislative_subjects'] for item in row]))\n",
    "subject_uri = {}\n",
    "\n",
    "# This page lists the legislative subject terms. It doesn't have any IDs or HTML anchors to each individual subject.\n",
    "# Using a hash URI is the best we can do here, although it won't point to the specific item on the page.\n",
    "URIBASE = 'https://www.congress.gov/help/field-values/legislative-subject-terms#'\n",
    "\n",
    "with open(OUTFILE, 'w', newline='') as outfile:\n",
    "    writer = csv.DictWriter(outfile, fieldnames=FIELDS)\n",
    "    writer.writeheader()\n",
    "\n",
    "    count = 0\n",
    "    for idx, subject_term in enumerate(subjects):\n",
    "        uri = URIBASE + str(idx+1)\n",
    "        item = {\n",
    "            'uri': uri,\n",
    "            'label_en': subject_term,\n",
    "        }\n",
    "        if idx < 10:\n",
    "            print(f\"{uri}\\t{subject_term}\")\n",
    "        subject_uri[subject_term] = uri\n",
    "        writer.writerow(item)\n",
    "        count += 1\n",
    "\n",
    "    print(f\"wrote {count} subjects into {OUTFILE}\")\n"
   ]
  },
  {
   "cell_type": "code",
   "execution_count": 28,
   "id": "6f810b72-0156-4f6a-9cb8-b450c8bd0550",
   "metadata": {},
   "outputs": [
    {
     "data": {
      "text/plain": [
       "DatasetDict({\n",
       "    train: Dataset({\n",
       "        features: ['id', 'congress', 'bill_type', 'bill_number', 'bill_version', 'title', 'sections', 'sections_length', 'text', 'text_length', 'policy_area', 'legislative_subjects'],\n",
       "        num_rows: 107612\n",
       "    })\n",
       "    test: Dataset({\n",
       "        features: ['id', 'congress', 'bill_type', 'bill_number', 'bill_version', 'title', 'sections', 'sections_length', 'text', 'text_length', 'policy_area', 'legislative_subjects'],\n",
       "        num_rows: 11957\n",
       "    })\n",
       "})"
      ]
     },
     "execution_count": 28,
     "metadata": {},
     "output_type": "execute_result"
    }
   ],
   "source": [
    "# split the dataset into 90% train, 10% test subsets\n",
    "ds_split = dataset.train_test_split(test_size=0.1)\n",
    "ds_split"
   ]
  },
  {
   "cell_type": "code",
   "execution_count": 46,
   "id": "145edda8-7da3-4687-9775-4c64efc66a77",
   "metadata": {},
   "outputs": [
    {
     "name": "stdout",
     "output_type": "stream",
     "text": [
      "CPU times: user 2min 51s, sys: 458 ms, total: 2min 51s\n",
      "Wall time: 2min 51s\n"
     ]
    }
   ],
   "source": [
    "%%time\n",
    "\n",
    "# create the policy area corpora from the train and test sets\n",
    "\n",
    "import gzip\n",
    "\n",
    "def normalize_text(text):\n",
    "    try:\n",
    "        return ' '.join(text.split())\n",
    "    except:\n",
    "        return ''\n",
    "\n",
    "def to_policy_area_corpus(ds, outfile):\n",
    "    for item in ds:\n",
    "        title = normalize_text(item['title'])\n",
    "        text = normalize_text(item['text'])\n",
    "        uri = policy_area_uri[item['policy_area']]\n",
    "\n",
    "        print(f\"{title} ¤ {text}\\t<{uri}>\", file=outfile)\n",
    "\n",
    "with gzip.open('policy_area-train.tsv.gz', 'wt') as outfile:\n",
    "    to_policy_area_corpus(ds_split['train'], outfile)\n",
    "\n",
    "with gzip.open('policy_area-test.tsv.gz', 'wt') as outfile:\n",
    "    to_policy_area_corpus(ds_split['test'], outfile)"
   ]
  },
  {
   "cell_type": "code",
   "execution_count": 48,
   "id": "d3551757-4981-487a-b9d8-7bf3839c33d1",
   "metadata": {},
   "outputs": [
    {
     "name": "stdout",
     "output_type": "stream",
     "text": [
      "CPU times: user 3min 52s, sys: 583 ms, total: 3min 53s\n",
      "Wall time: 3min 53s\n"
     ]
    }
   ],
   "source": [
    "%%time\n",
    "\n",
    "# create the legislative subject corpora from the train and test sets\n",
    "\n",
    "import gzip\n",
    "\n",
    "def normalize_text(text):\n",
    "    try:\n",
    "        return ' '.join(text.split())\n",
    "    except:\n",
    "        return ''\n",
    "\n",
    "def to_legislative_subject_corpus(ds, outfile):\n",
    "    for item in ds:\n",
    "        title = normalize_text(item['title'])\n",
    "        text = normalize_text(item['text'])\n",
    "        uris = [f\"<{subject_uri[subject]}>\"\n",
    "                for subject in item['legislative_subjects']]\n",
    "\n",
    "        print(f\"{title} ¤ {text}\\t{' '.join(uris)}\", file=outfile)\n",
    "\n",
    "with gzip.open('legislative_subject-train.tsv.gz', 'wt') as outfile:\n",
    "    to_legislative_subject_corpus(ds_split['train'], outfile)\n",
    "\n",
    "with gzip.open('legislative_subject-test.tsv.gz', 'wt') as outfile:\n",
    "    to_legislative_subject_corpus(ds_split['test'], outfile)"
   ]
  },
  {
   "cell_type": "code",
   "execution_count": null,
   "id": "e000143b-28fa-435c-b4fe-d126a55ec2d5",
   "metadata": {},
   "outputs": [],
   "source": []
  }
 ],
 "metadata": {
  "kernelspec": {
   "display_name": "Python 3 (ipykernel)",
   "language": "python",
   "name": "python3"
  },
  "language_info": {
   "codemirror_mode": {
    "name": "ipython",
    "version": 3
   },
   "file_extension": ".py",
   "mimetype": "text/x-python",
   "name": "python",
   "nbconvert_exporter": "python",
   "pygments_lexer": "ipython3",
   "version": "3.10.12"
  }
 },
 "nbformat": 4,
 "nbformat_minor": 5
}
